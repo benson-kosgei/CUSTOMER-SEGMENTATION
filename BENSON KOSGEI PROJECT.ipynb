{
 "cells": [
  {
   "cell_type": "code",
   "execution_count": 1,
   "id": "297cd1bd",
   "metadata": {},
   "outputs": [],
   "source": [
    "import numpy as np\n",
    "import pandas as pd\n",
    "import matplotlib.pyplot as plt\n",
    "import matplotlib as mpl\n",
    "import warnings\n",
    "import joblib\n",
    "warnings.filterwarnings(\"ignore\")\n",
    "from sklearn.preprocessing import OneHotEncoder, StandardScaler\n",
    "from sklearn.compose import ColumnTransformer\n",
    "from sklearn.pipeline import Pipeline\n"
   ]
  },
  {
   "cell_type": "code",
   "execution_count": 2,
   "id": "de80368a",
   "metadata": {},
   "outputs": [],
   "source": [
    "# Assuming X contains your feature matrix with mixed data types\n",
    "# Here's a sample pipeline for preprocessing\n",
    "numeric_features = ['numeric_feature_1', 'numeric_feature_2', ...]  # Specify your numeric feature column names\n",
    "categorical_features = ['categorical_feature_1', 'categorical_feature_2', ...]  # Specify your categorical feature column names"
   ]
  },
  {
   "cell_type": "code",
   "execution_count": 3,
   "id": "5cf822f6",
   "metadata": {},
   "outputs": [],
   "source": [
    "# Plot styling\n",
    "import seaborn as sns; sns.set()  # for plot styling\n",
    "%matplotlib inline\n",
    "plt.rcParams['figure.figsize'] = (10, 5)\n",
    "mpl.style.use('ggplot') # for ggplot-like style"
   ]
  },
  {
   "cell_type": "code",
   "execution_count": 4,
   "id": "be842bdc",
   "metadata": {},
   "outputs": [],
   "source": [
    "cdata=pd.read_csv('CLV.csv')"
   ]
  },
  {
   "cell_type": "code",
   "execution_count": 5,
   "id": "30aa3b69",
   "metadata": {},
   "outputs": [
    {
     "data": {
      "text/html": [
       "<div>\n",
       "<style scoped>\n",
       "    .dataframe tbody tr th:only-of-type {\n",
       "        vertical-align: middle;\n",
       "    }\n",
       "\n",
       "    .dataframe tbody tr th {\n",
       "        vertical-align: top;\n",
       "    }\n",
       "\n",
       "    .dataframe thead th {\n",
       "        text-align: right;\n",
       "    }\n",
       "</style>\n",
       "<table border=\"1\" class=\"dataframe\">\n",
       "  <thead>\n",
       "    <tr style=\"text-align: right;\">\n",
       "      <th></th>\n",
       "      <th>INCOME</th>\n",
       "      <th>SPEND</th>\n",
       "    </tr>\n",
       "  </thead>\n",
       "  <tbody>\n",
       "    <tr>\n",
       "      <th>0</th>\n",
       "      <td>233</td>\n",
       "      <td>150</td>\n",
       "    </tr>\n",
       "    <tr>\n",
       "      <th>1</th>\n",
       "      <td>250</td>\n",
       "      <td>187</td>\n",
       "    </tr>\n",
       "    <tr>\n",
       "      <th>2</th>\n",
       "      <td>204</td>\n",
       "      <td>172</td>\n",
       "    </tr>\n",
       "    <tr>\n",
       "      <th>3</th>\n",
       "      <td>236</td>\n",
       "      <td>178</td>\n",
       "    </tr>\n",
       "    <tr>\n",
       "      <th>4</th>\n",
       "      <td>354</td>\n",
       "      <td>163</td>\n",
       "    </tr>\n",
       "  </tbody>\n",
       "</table>\n",
       "</div>"
      ],
      "text/plain": [
       "   INCOME  SPEND\n",
       "0     233    150\n",
       "1     250    187\n",
       "2     204    172\n",
       "3     236    178\n",
       "4     354    163"
      ]
     },
     "execution_count": 5,
     "metadata": {},
     "output_type": "execute_result"
    }
   ],
   "source": [
    "cdata.head()"
   ]
  },
  {
   "cell_type": "code",
   "execution_count": 6,
   "id": "b7df17b3",
   "metadata": {},
   "outputs": [
    {
     "data": {
      "text/plain": [
       "303"
      ]
     },
     "execution_count": 6,
     "metadata": {},
     "output_type": "execute_result"
    }
   ],
   "source": [
    "len(cdata)"
   ]
  },
  {
   "cell_type": "code",
   "execution_count": 7,
   "id": "2628be55",
   "metadata": {},
   "outputs": [
    {
     "data": {
      "text/html": [
       "<div>\n",
       "<style scoped>\n",
       "    .dataframe tbody tr th:only-of-type {\n",
       "        vertical-align: middle;\n",
       "    }\n",
       "\n",
       "    .dataframe tbody tr th {\n",
       "        vertical-align: top;\n",
       "    }\n",
       "\n",
       "    .dataframe thead th {\n",
       "        text-align: right;\n",
       "    }\n",
       "</style>\n",
       "<table border=\"1\" class=\"dataframe\">\n",
       "  <thead>\n",
       "    <tr style=\"text-align: right;\">\n",
       "      <th></th>\n",
       "      <th>INCOME</th>\n",
       "      <th>SPEND</th>\n",
       "    </tr>\n",
       "  </thead>\n",
       "  <tbody>\n",
       "    <tr>\n",
       "      <th>count</th>\n",
       "      <td>303.000000</td>\n",
       "      <td>303.000000</td>\n",
       "    </tr>\n",
       "    <tr>\n",
       "      <th>mean</th>\n",
       "      <td>245.273927</td>\n",
       "      <td>149.646865</td>\n",
       "    </tr>\n",
       "    <tr>\n",
       "      <th>std</th>\n",
       "      <td>48.499412</td>\n",
       "      <td>22.905161</td>\n",
       "    </tr>\n",
       "    <tr>\n",
       "      <th>min</th>\n",
       "      <td>126.000000</td>\n",
       "      <td>71.000000</td>\n",
       "    </tr>\n",
       "    <tr>\n",
       "      <th>25%</th>\n",
       "      <td>211.000000</td>\n",
       "      <td>133.500000</td>\n",
       "    </tr>\n",
       "    <tr>\n",
       "      <th>50%</th>\n",
       "      <td>240.000000</td>\n",
       "      <td>153.000000</td>\n",
       "    </tr>\n",
       "    <tr>\n",
       "      <th>75%</th>\n",
       "      <td>274.000000</td>\n",
       "      <td>166.000000</td>\n",
       "    </tr>\n",
       "    <tr>\n",
       "      <th>max</th>\n",
       "      <td>417.000000</td>\n",
       "      <td>202.000000</td>\n",
       "    </tr>\n",
       "  </tbody>\n",
       "</table>\n",
       "</div>"
      ],
      "text/plain": [
       "           INCOME       SPEND\n",
       "count  303.000000  303.000000\n",
       "mean   245.273927  149.646865\n",
       "std     48.499412   22.905161\n",
       "min    126.000000   71.000000\n",
       "25%    211.000000  133.500000\n",
       "50%    240.000000  153.000000\n",
       "75%    274.000000  166.000000\n",
       "max    417.000000  202.000000"
      ]
     },
     "execution_count": 7,
     "metadata": {},
     "output_type": "execute_result"
    }
   ],
   "source": [
    "# Descriptive statistics of the dataset\n",
    "cdata.describe() "
   ]
  },
  {
   "cell_type": "code",
   "execution_count": 8,
   "id": "d3b4129c",
   "metadata": {},
   "outputs": [
    {
     "data": {
      "text/plain": [
       "303"
      ]
     },
     "execution_count": 8,
     "metadata": {},
     "output_type": "execute_result"
    }
   ],
   "source": [
    "len(cdata)"
   ]
  },
  {
   "cell_type": "code",
   "execution_count": 9,
   "id": "40c4bb75",
   "metadata": {},
   "outputs": [
    {
     "data": {
      "text/plain": [
       "INCOME    0\n",
       "SPEND     0\n",
       "dtype: int64"
      ]
     },
     "execution_count": 9,
     "metadata": {},
     "output_type": "execute_result"
    }
   ],
   "source": [
    "# Check missing values\n",
    "cdata.isnull().sum()"
   ]
  },
  {
   "cell_type": "code",
   "execution_count": 10,
   "id": "cbe14b7c",
   "metadata": {},
   "outputs": [
    {
     "data": {
      "text/plain": [
       "Text(0.5, 0, 'Income / spend ')"
      ]
     },
     "execution_count": 10,
     "metadata": {},
     "output_type": "execute_result"
    },
    {
     "data": {
      "image/png": "[encoded data removed]",
      "text/plain": [
       "<Figure size 1000x500 with 1 Axes>"
      ]
     },
     "metadata": {},
     "output_type": "display_data"
    }
   ],
   "source": [
    "# Visualize data\n",
    "plot_spend=sns.distplot(cdata['SPEND'], color=\"#3498db\")\n",
    "plot_income=sns.distplot(cdata['INCOME'], color=\"#e74c3c\")\n",
    "plt.xlabel('Income / spend ')"
   ]
  },
  {
   "cell_type": "code",
   "execution_count": 11,
   "id": "681d5bd2",
   "metadata": {},
   "outputs": [
    {
     "data": {
      "text/plain": [
       "[(0.0, 420.0)]"
      ]
     },
     "execution_count": 11,
     "metadata": {},
     "output_type": "execute_result"
    },
    {
     "data": {
      "image/png": "[encoded data removed]",
      "text/plain": [
       "<Figure size 1200x600 with 2 Axes>"
      ]
     },
     "metadata": {},
     "output_type": "display_data"
    }
   ],
   "source": [
    "#Violin plot of Income and Spend\n",
    "f, axes = plt.subplots(1,2, figsize=(12,6), sharex=True, sharey=True)\n",
    "v1 = sns.violinplot(data=cdata, x='INCOME', color=\"skyblue\",ax=axes[0])\n",
    "v2 = sns.violinplot(data=cdata, x='SPEND',color=\"lightgreen\", ax=axes[1])\n",
    "v1.set(xlim=(0,420))"
   ]
  },
  {
   "cell_type": "code",
   "execution_count": 13,
   "id": "921d4fe0",
   "metadata": {},
   "outputs": [
    {
     "data": {
      "text/html": [
       "<div>\n",
       "<style scoped>\n",
       "    .dataframe tbody tr th:only-of-type {\n",
       "        vertical-align: middle;\n",
       "    }\n",
       "\n",
       "    .dataframe tbody tr th {\n",
       "        vertical-align: top;\n",
       "    }\n",
       "\n",
       "    .dataframe thead th {\n",
       "        text-align: right;\n",
       "    }\n",
       "</style>\n",
       "<table border=\"1\" class=\"dataframe\">\n",
       "  <thead>\n",
       "    <tr style=\"text-align: right;\">\n",
       "      <th></th>\n",
       "      <th>INCOME</th>\n",
       "      <th>SPEND</th>\n",
       "    </tr>\n",
       "  </thead>\n",
       "  <tbody>\n",
       "    <tr>\n",
       "      <th>0</th>\n",
       "      <td>233</td>\n",
       "      <td>150</td>\n",
       "    </tr>\n",
       "    <tr>\n",
       "      <th>1</th>\n",
       "      <td>250</td>\n",
       "      <td>187</td>\n",
       "    </tr>\n",
       "    <tr>\n",
       "      <th>2</th>\n",
       "      <td>204</td>\n",
       "      <td>172</td>\n",
       "    </tr>\n",
       "    <tr>\n",
       "      <th>3</th>\n",
       "      <td>236</td>\n",
       "      <td>178</td>\n",
       "    </tr>\n",
       "    <tr>\n",
       "      <th>4</th>\n",
       "      <td>354</td>\n",
       "      <td>163</td>\n",
       "    </tr>\n",
       "    <tr>\n",
       "      <th>...</th>\n",
       "      <td>...</td>\n",
       "      <td>...</td>\n",
       "    </tr>\n",
       "    <tr>\n",
       "      <th>298</th>\n",
       "      <td>241</td>\n",
       "      <td>123</td>\n",
       "    </tr>\n",
       "    <tr>\n",
       "      <th>299</th>\n",
       "      <td>264</td>\n",
       "      <td>132</td>\n",
       "    </tr>\n",
       "    <tr>\n",
       "      <th>300</th>\n",
       "      <td>193</td>\n",
       "      <td>141</td>\n",
       "    </tr>\n",
       "    <tr>\n",
       "      <th>301</th>\n",
       "      <td>131</td>\n",
       "      <td>115</td>\n",
       "    </tr>\n",
       "    <tr>\n",
       "      <th>302</th>\n",
       "      <td>236</td>\n",
       "      <td>174</td>\n",
       "    </tr>\n",
       "  </tbody>\n",
       "</table>\n",
       "<p>303 rows × 2 columns</p>\n",
       "</div>"
      ],
      "text/plain": [
       "     INCOME  SPEND\n",
       "0       233    150\n",
       "1       250    187\n",
       "2       204    172\n",
       "3       236    178\n",
       "4       354    163\n",
       "..      ...    ...\n",
       "298     241    123\n",
       "299     264    132\n",
       "300     193    141\n",
       "301     131    115\n",
       "302     236    174\n",
       "\n",
       "[303 rows x 2 columns]"
      ]
     },
     "execution_count": 13,
     "metadata": {},
     "output_type": "execute_result"
    }
   ],
   "source": [
    "cdata"
   ]
  },
  {
   "cell_type": "code",
   "execution_count": 14,
   "id": "ef764971",
   "metadata": {},
   "outputs": [
    {
     "data": {
      "text/plain": [
       "array([[233, 150],\n",
       "       [250, 187],\n",
       "       [204, 172],\n",
       "       [236, 178],\n",
       "       [354, 163],\n",
       "       [192, 148],\n",
       "       [294, 153],\n",
       "       [263, 173],\n",
       "       [199, 162],\n",
       "       [168, 174],\n",
       "       [239, 160],\n",
       "       [275, 139],\n",
       "       [266, 171],\n",
       "       [211, 144],\n",
       "       [283, 162],\n",
       "       [219, 158],\n",
       "       [340, 172],\n",
       "       [226, 114],\n",
       "       [247, 171],\n",
       "       [239, 151],\n",
       "       [234, 161],\n",
       "       [233, 179],\n",
       "       [226, 178],\n",
       "       [243, 137],\n",
       "       [199, 178],\n",
       "       [302, 162],\n",
       "       [212, 157],\n",
       "       [175, 123],\n",
       "       [417, 157],\n",
       "       [197, 152],\n",
       "       [198, 168],\n",
       "       [177, 140],\n",
       "       [219, 188],\n",
       "       [273, 152],\n",
       "       [213, 125],\n",
       "       [177, 160],\n",
       "       [304, 170],\n",
       "       [232, 165],\n",
       "       [269, 148],\n",
       "       [360, 151],\n",
       "       [308, 142],\n",
       "       [245, 180],\n",
       "       [208, 148],\n",
       "       [264, 143],\n",
       "       [321, 182],\n",
       "       [325, 172],\n",
       "       [235, 180],\n",
       "       [257, 156],\n",
       "       [216, 115],\n",
       "       [234, 160],\n",
       "       [256, 149],\n",
       "       [302, 151],\n",
       "       [231, 146],\n",
       "       [141, 175],\n",
       "       [252, 172],\n",
       "       [201, 158],\n",
       "       [222, 186],\n",
       "       [260, 185],\n",
       "       [182, 174],\n",
       "       [303, 159],\n",
       "       [265, 130],\n",
       "       [309, 156],\n",
       "       [186, 190],\n",
       "       [203, 132],\n",
       "       [211, 165],\n",
       "       [183, 182],\n",
       "       [222, 143],\n",
       "       [234, 175],\n",
       "       [220, 170],\n",
       "       [209, 163],\n",
       "       [258, 147],\n",
       "       [227, 154],\n",
       "       [204, 202],\n",
       "       [261, 186],\n",
       "       [213, 165],\n",
       "       [250, 161],\n",
       "       [245, 166],\n",
       "       [221, 164],\n",
       "       [205, 184],\n",
       "       [240, 154],\n",
       "       [250, 179],\n",
       "       [308, 170],\n",
       "       [318, 160],\n",
       "       [298, 178],\n",
       "       [265, 122],\n",
       "       [264, 160],\n",
       "       [277, 151],\n",
       "       [197, 156],\n",
       "       [214, 158],\n",
       "       [248, 122],\n",
       "       [255, 175],\n",
       "       [207, 168],\n",
       "       [223, 169],\n",
       "       [288, 159],\n",
       "       [160, 138],\n",
       "       [226, 111],\n",
       "       [394, 157],\n",
       "       [233, 147],\n",
       "       [315, 162],\n",
       "       [246, 173],\n",
       "       [244, 178],\n",
       "       [270, 145],\n",
       "       [195, 179],\n",
       "       [240, 194],\n",
       "       [196, 163],\n",
       "       [211, 115],\n",
       "       [234, 131],\n",
       "       [236, 152],\n",
       "       [244, 162],\n",
       "       [254, 159],\n",
       "       [325, 154],\n",
       "       [126, 173],\n",
       "       [313, 133],\n",
       "       [211, 161],\n",
       "       [262, 155],\n",
       "       [215, 170],\n",
       "       [214, 168],\n",
       "       [193, 162],\n",
       "       [204, 172],\n",
       "       [243, 152],\n",
       "       [303, 122],\n",
       "       [271, 182],\n",
       "       [268, 172],\n",
       "       [267, 167],\n",
       "       [199, 179],\n",
       "       [210, 192],\n",
       "       [204, 143],\n",
       "       [277, 172],\n",
       "       [196, 169],\n",
       "       [269, 121],\n",
       "       [201, 163],\n",
       "       [271, 162],\n",
       "       [295, 162],\n",
       "       [235, 153],\n",
       "       [306, 163],\n",
       "       [269, 163],\n",
       "       [178,  96],\n",
       "       [208, 140],\n",
       "       [201, 126],\n",
       "       [263, 105],\n",
       "       [295, 157],\n",
       "       [303, 181],\n",
       "       [209, 173],\n",
       "       [223, 142],\n",
       "       [197, 116],\n",
       "       [245, 143],\n",
       "       [242, 149],\n",
       "       [240, 171],\n",
       "       [226, 169],\n",
       "       [180, 150],\n",
       "       [228, 138],\n",
       "       [149, 125],\n",
       "       [227, 155],\n",
       "       [278, 152],\n",
       "       [220, 152],\n",
       "       [197, 131],\n",
       "       [253, 179],\n",
       "       [192, 174],\n",
       "       [220, 144],\n",
       "       [221, 163],\n",
       "       [240, 169],\n",
       "       [342, 166],\n",
       "       [157, 182],\n",
       "       [175, 173],\n",
       "       [175, 173],\n",
       "       [286, 108],\n",
       "       [229, 129],\n",
       "       [268, 160],\n",
       "       [254, 147],\n",
       "       [203, 155],\n",
       "       [256, 142],\n",
       "       [229, 168],\n",
       "       [284, 160],\n",
       "       [224, 173],\n",
       "       [206, 132],\n",
       "       [167, 114],\n",
       "       [230, 160],\n",
       "       [335, 158],\n",
       "       [177, 120],\n",
       "       [276, 112],\n",
       "       [353, 132],\n",
       "       [225, 114],\n",
       "       [330, 169],\n",
       "       [230, 165],\n",
       "       [243, 128],\n",
       "       [290, 153],\n",
       "       [253, 144],\n",
       "       [266, 109],\n",
       "       [233, 163],\n",
       "       [172, 158],\n",
       "       [305, 142],\n",
       "       [216, 131],\n",
       "       [188, 113],\n",
       "       [282, 142],\n",
       "       [185, 155],\n",
       "       [326, 140],\n",
       "       [231, 147],\n",
       "       [254, 163],\n",
       "       [267,  99],\n",
       "       [248, 158],\n",
       "       [197, 177],\n",
       "       [258, 141],\n",
       "       [270, 111],\n",
       "       [274, 150],\n",
       "       [164, 145],\n",
       "       [255, 161],\n",
       "       [239, 142],\n",
       "       [258, 157],\n",
       "       [188, 139],\n",
       "       [177, 162],\n",
       "       [229, 150],\n",
       "       [260, 140],\n",
       "       [219, 140],\n",
       "       [307, 146],\n",
       "       [249, 144],\n",
       "       [341, 136],\n",
       "       [263,  97],\n",
       "       [330, 132],\n",
       "       [254, 127],\n",
       "       [256, 150],\n",
       "       [407, 154],\n",
       "       [217, 111],\n",
       "       [282, 174],\n",
       "       [288, 133],\n",
       "       [239, 126],\n",
       "       [174, 125],\n",
       "       [281, 103],\n",
       "       [198, 130],\n",
       "       [288, 159],\n",
       "       [309, 131],\n",
       "       [243, 152],\n",
       "       [289, 124],\n",
       "       [289, 145],\n",
       "       [246,  96],\n",
       "       [322, 109],\n",
       "       [299, 173],\n",
       "       [300, 171],\n",
       "       [293, 170],\n",
       "       [304, 162],\n",
       "       [282, 156],\n",
       "       [269, 112],\n",
       "       [249, 143],\n",
       "       [212, 132],\n",
       "       [274,  88],\n",
       "       [184, 105],\n",
       "       [274, 166],\n",
       "       [409, 150],\n",
       "       [246, 120],\n",
       "       [283, 195],\n",
       "       [254, 146],\n",
       "       [298, 122],\n",
       "       [247, 143],\n",
       "       [294, 106],\n",
       "       [299, 125],\n",
       "       [273, 125],\n",
       "       [309, 147],\n",
       "       [259, 130],\n",
       "       [200, 126],\n",
       "       [244, 154],\n",
       "       [231, 182],\n",
       "       [228, 165],\n",
       "       [230, 160],\n",
       "       [282,  95],\n",
       "       [269, 169],\n",
       "       [206, 108],\n",
       "       [212, 132],\n",
       "       [327, 117],\n",
       "       [149, 126],\n",
       "       [286, 116],\n",
       "       [283, 103],\n",
       "       [249, 144],\n",
       "       [234, 145],\n",
       "       [237,  71],\n",
       "       [234, 156],\n",
       "       [275, 118],\n",
       "       [212, 168],\n",
       "       [218, 105],\n",
       "       [261, 141],\n",
       "       [319, 152],\n",
       "       [166, 125],\n",
       "       [315, 125],\n",
       "       [204, 156],\n",
       "       [218, 134],\n",
       "       [223, 181],\n",
       "       [207, 138],\n",
       "       [311, 120],\n",
       "       [204, 162],\n",
       "       [232, 164],\n",
       "       [335, 143],\n",
       "       [205, 130],\n",
       "       [203, 161],\n",
       "       [318, 140],\n",
       "       [225, 146],\n",
       "       [212, 150],\n",
       "       [169, 144],\n",
       "       [187, 144],\n",
       "       [197, 136],\n",
       "       [176,  90],\n",
       "       [241, 123],\n",
       "       [264, 132],\n",
       "       [193, 141],\n",
       "       [131, 115],\n",
       "       [236, 174]], dtype=int64)"
      ]
     },
     "execution_count": 14,
     "metadata": {},
     "output_type": "execute_result"
    }
   ],
   "source": [
    "cdata.to_numpy()"
   ]
  },
  {
   "cell_type": "code",
   "execution_count": 15,
   "id": "170169e5",
   "metadata": {},
   "outputs": [
    {
     "data": {
      "image/png": "[encoded data removed]",
      "text/plain": [
       "<Figure size 1000x500 with 1 Axes>"
      ]
     },
     "metadata": {},
     "output_type": "display_data"
    }
   ],
   "source": [
    "#Using the elbow method to find the optimum number of clusters\n",
    "from sklearn.cluster import KMeans\n",
    "wcss = [] #minimizing within cluster sum of square \n",
    "X=cdata.to_numpy()\n",
    "for i in range(1,11):\n",
    "    km=KMeans(n_clusters=i,init='k-means++', max_iter=300, n_init=10, random_state=0) \n",
    "    #n_init set the number of time the k-means algorithm will be run with different centroid seeds.\n",
    "    #k-means++ provides a smart initialization. This method tries to spread out the initial set of centroids so that they are not too close together. \n",
    "    #k-means++ is known to improve the quality of local optima and lower average runtime.\n",
    "    #max_iter set the maximum number of iterations of the k-means algorithm for a single run.\n",
    "    #About random_state: If random_state is an integer, then it is used to seed a new RandomState object.\n",
    "    km.fit(X)\n",
    "    wcss.append(km.inertia_)\n",
    "plt.plot(range(1,11),wcss)\n",
    "plt.title('Elbow Method')\n",
    "plt.xlabel('Number of clusters')\n",
    "plt.ylabel('wcss')\n",
    "plt.show()"
   ]
  },
  {
   "cell_type": "code",
   "execution_count": 96,
   "id": "df705e76",
   "metadata": {},
   "outputs": [],
   "source": [
    "#model fitting\n",
    "#Fitting the k-means to the dataset with k=4\n",
    "a = np.array([[1, 2], [1, 4], [1, 0],\n",
    "            [10, 2], [10, 4], [10, 0]])"
   ]
  },
  {
   "cell_type": "code",
   "execution_count": 97,
   "id": "9116140e",
   "metadata": {},
   "outputs": [
    {
     "data": {
      "text/plain": [
       "array([[ 1,  2],\n",
       "       [ 1,  4],\n",
       "       [ 1,  0],\n",
       "       [10,  2],\n",
       "       [10,  4],\n",
       "       [10,  0]])"
      ]
     },
     "execution_count": 97,
     "metadata": {},
     "output_type": "execute_result"
    }
   ],
   "source": [
    "a"
   ]
  },
  {
   "cell_type": "code",
   "execution_count": 17,
   "id": "8be7b81c",
   "metadata": {},
   "outputs": [],
   "source": [
    "##Fitting kmeans to the dataset with k=4\n",
    "km4=KMeans(n_clusters=4,init='k-means++', max_iter=300, n_init=10, random_state=0)\n",
    "y_means = km4.fit_predict(X) #fit_predict compute cluster centers and predict cluster index for each sample.\n",
    "# y_means are the predicted cluster indexes. Cluster idexes are from 0-3 since there are only 4 clusters"
   ]
  },
  {
   "cell_type": "code",
   "execution_count": 18,
   "id": "217d975c",
   "metadata": {},
   "outputs": [
    {
     "data": {
      "text/plain": [
       "array([0, 0, 3, 0, 2, 3, 2, 0, 3, 3, 0, 1, 0, 3, 2, 0, 2, 1, 0, 0, 0, 0,\n",
       "       0, 1, 3, 2, 3, 3, 2, 3, 3, 3, 0, 1, 3, 3, 2, 0, 1, 2, 2, 0, 3, 1,\n",
       "       2, 2, 0, 0, 3, 0, 0, 2, 0, 3, 0, 3, 0, 0, 3, 2, 1, 2, 3, 3, 3, 3,\n",
       "       0, 0, 0, 3, 1, 0, 0, 0, 0, 0, 0, 0, 3, 0, 0, 2, 2, 2, 1, 0, 1, 3,\n",
       "       3, 1, 0, 3, 0, 2, 3, 1, 2, 0, 2, 0, 0, 1, 3, 0, 3, 3, 1, 0, 0, 0,\n",
       "       2, 3, 2, 3, 0, 0, 0, 3, 3, 0, 2, 0, 0, 0, 3, 0, 3, 0, 3, 1, 3, 0,\n",
       "       2, 0, 2, 0, 3, 3, 3, 1, 2, 2, 3, 0, 3, 0, 0, 0, 0, 3, 0, 3, 0, 1,\n",
       "       0, 3, 0, 3, 3, 0, 0, 2, 3, 3, 3, 1, 1, 0, 1, 3, 1, 0, 2, 0, 3, 3,\n",
       "       0, 2, 3, 1, 2, 1, 2, 0, 1, 2, 1, 1, 0, 3, 2, 3, 3, 1, 3, 2, 0, 0,\n",
       "       1, 0, 3, 1, 1, 1, 3, 0, 0, 0, 3, 3, 0, 1, 3, 2, 1, 2, 1, 2, 1, 0,\n",
       "       2, 3, 2, 1, 1, 3, 1, 3, 2, 2, 0, 1, 2, 1, 2, 2, 2, 2, 2, 2, 1, 1,\n",
       "       3, 1, 3, 0, 2, 1, 0, 1, 2, 1, 1, 2, 1, 2, 1, 3, 0, 0, 0, 0, 1, 0,\n",
       "       3, 3, 2, 3, 1, 1, 1, 0, 1, 0, 1, 0, 1, 1, 2, 3, 2, 3, 3, 0, 3, 2,\n",
       "       3, 0, 2, 3, 3, 2, 0, 3, 3, 3, 3, 3, 1, 1, 3, 3, 0])"
      ]
     },
     "execution_count": 18,
     "metadata": {},
     "output_type": "execute_result"
    }
   ],
   "source": [
    "y_means"
   ]
  },
  {
   "cell_type": "code",
   "execution_count": 19,
   "id": "4e8acc24",
   "metadata": {},
   "outputs": [
    {
     "data": {
      "text/plain": [
       "array([[204, 172],\n",
       "       [192, 148],\n",
       "       [199, 162],\n",
       "       [168, 174],\n",
       "       [211, 144],\n",
       "       [199, 178],\n",
       "       [212, 157],\n",
       "       [175, 123],\n",
       "       [197, 152],\n",
       "       [198, 168],\n",
       "       [177, 140],\n",
       "       [213, 125],\n",
       "       [177, 160],\n",
       "       [208, 148],\n",
       "       [216, 115],\n",
       "       [141, 175],\n",
       "       [201, 158],\n",
       "       [182, 174],\n",
       "       [186, 190],\n",
       "       [203, 132],\n",
       "       [211, 165],\n",
       "       [183, 182],\n",
       "       [209, 163],\n",
       "       [205, 184],\n",
       "       [197, 156],\n",
       "       [214, 158],\n",
       "       [207, 168],\n",
       "       [160, 138],\n",
       "       [195, 179],\n",
       "       [196, 163],\n",
       "       [211, 115],\n",
       "       [126, 173],\n",
       "       [211, 161],\n",
       "       [193, 162],\n",
       "       [204, 172],\n",
       "       [199, 179],\n",
       "       [204, 143],\n",
       "       [196, 169],\n",
       "       [201, 163],\n",
       "       [178,  96],\n",
       "       [208, 140],\n",
       "       [201, 126],\n",
       "       [209, 173],\n",
       "       [197, 116],\n",
       "       [180, 150],\n",
       "       [149, 125],\n",
       "       [197, 131],\n",
       "       [192, 174],\n",
       "       [220, 144],\n",
       "       [157, 182],\n",
       "       [175, 173],\n",
       "       [175, 173],\n",
       "       [203, 155],\n",
       "       [206, 132],\n",
       "       [167, 114],\n",
       "       [177, 120],\n",
       "       [172, 158],\n",
       "       [216, 131],\n",
       "       [188, 113],\n",
       "       [185, 155],\n",
       "       [197, 177],\n",
       "       [164, 145],\n",
       "       [188, 139],\n",
       "       [177, 162],\n",
       "       [219, 140],\n",
       "       [217, 111],\n",
       "       [174, 125],\n",
       "       [198, 130],\n",
       "       [212, 132],\n",
       "       [184, 105],\n",
       "       [200, 126],\n",
       "       [206, 108],\n",
       "       [212, 132],\n",
       "       [149, 126],\n",
       "       [166, 125],\n",
       "       [204, 156],\n",
       "       [218, 134],\n",
       "       [207, 138],\n",
       "       [204, 162],\n",
       "       [205, 130],\n",
       "       [203, 161],\n",
       "       [212, 150],\n",
       "       [169, 144],\n",
       "       [187, 144],\n",
       "       [197, 136],\n",
       "       [176,  90],\n",
       "       [193, 141],\n",
       "       [131, 115]], dtype=int64)"
      ]
     },
     "execution_count": 19,
     "metadata": {},
     "output_type": "execute_result"
    }
   ],
   "source": [
    "X[y_means==3]"
   ]
  },
  {
   "cell_type": "code",
   "execution_count": 20,
   "id": "e3dd4610",
   "metadata": {},
   "outputs": [
    {
     "data": {
      "text/plain": [
       "array([[204, 172],\n",
       "       [192, 148],\n",
       "       [199, 162],\n",
       "       [168, 174],\n",
       "       [211, 144],\n",
       "       [199, 178],\n",
       "       [212, 157],\n",
       "       [175, 123],\n",
       "       [197, 152],\n",
       "       [198, 168],\n",
       "       [177, 140],\n",
       "       [213, 125],\n",
       "       [177, 160],\n",
       "       [208, 148],\n",
       "       [216, 115],\n",
       "       [141, 175],\n",
       "       [201, 158],\n",
       "       [182, 174],\n",
       "       [186, 190],\n",
       "       [203, 132],\n",
       "       [211, 165],\n",
       "       [183, 182],\n",
       "       [209, 163],\n",
       "       [205, 184],\n",
       "       [197, 156],\n",
       "       [214, 158],\n",
       "       [207, 168],\n",
       "       [160, 138],\n",
       "       [195, 179],\n",
       "       [196, 163],\n",
       "       [211, 115],\n",
       "       [126, 173],\n",
       "       [211, 161],\n",
       "       [193, 162],\n",
       "       [204, 172],\n",
       "       [199, 179],\n",
       "       [204, 143],\n",
       "       [196, 169],\n",
       "       [201, 163],\n",
       "       [178,  96],\n",
       "       [208, 140],\n",
       "       [201, 126],\n",
       "       [209, 173],\n",
       "       [197, 116],\n",
       "       [180, 150],\n",
       "       [149, 125],\n",
       "       [197, 131],\n",
       "       [192, 174],\n",
       "       [220, 144],\n",
       "       [157, 182],\n",
       "       [175, 173],\n",
       "       [175, 173],\n",
       "       [203, 155],\n",
       "       [206, 132],\n",
       "       [167, 114],\n",
       "       [177, 120],\n",
       "       [172, 158],\n",
       "       [216, 131],\n",
       "       [188, 113],\n",
       "       [185, 155],\n",
       "       [197, 177],\n",
       "       [164, 145],\n",
       "       [188, 139],\n",
       "       [177, 162],\n",
       "       [219, 140],\n",
       "       [217, 111],\n",
       "       [174, 125],\n",
       "       [198, 130],\n",
       "       [212, 132],\n",
       "       [184, 105],\n",
       "       [200, 126],\n",
       "       [206, 108],\n",
       "       [212, 132],\n",
       "       [149, 126],\n",
       "       [166, 125],\n",
       "       [204, 156],\n",
       "       [218, 134],\n",
       "       [207, 138],\n",
       "       [204, 162],\n",
       "       [205, 130],\n",
       "       [203, 161],\n",
       "       [212, 150],\n",
       "       [169, 144],\n",
       "       [187, 144],\n",
       "       [197, 136],\n",
       "       [176,  90],\n",
       "       [193, 141],\n",
       "       [131, 115]], dtype=int64)"
      ]
     },
     "execution_count": 20,
     "metadata": {},
     "output_type": "execute_result"
    }
   ],
   "source": [
    "X[y_means==3]"
   ]
  },
  {
   "cell_type": "code",
   "execution_count": 21,
   "id": "d447acec",
   "metadata": {},
   "outputs": [
    {
     "data": {
      "text/plain": [
       "array([172, 148, 162, 174, 144, 178, 157, 123, 152, 168, 140, 125, 160,\n",
       "       148, 115, 175, 158, 174, 190, 132, 165, 182, 163, 184, 156, 158,\n",
       "       168, 138, 179, 163, 115, 173, 161, 162, 172, 179, 143, 169, 163,\n",
       "        96, 140, 126, 173, 116, 150, 125, 131, 174, 144, 182, 173, 173,\n",
       "       155, 132, 114, 120, 158, 131, 113, 155, 177, 145, 139, 162, 140,\n",
       "       111, 125, 130, 132, 105, 126, 108, 132, 126, 125, 156, 134, 138,\n",
       "       162, 130, 161, 150, 144, 144, 136,  90, 141, 115], dtype=int64)"
      ]
     },
     "execution_count": 21,
     "metadata": {},
     "output_type": "execute_result"
    }
   ],
   "source": [
    "X[y_means==3,1]"
   ]
  },
  {
   "cell_type": "code",
   "execution_count": 24,
   "id": "06e19850",
   "metadata": {},
   "outputs": [
    {
     "data": {
      "text/plain": [
       "array([[240.2371134 , 164.98969072],\n",
       "       [260.54237288, 125.37288136],\n",
       "       [317.6440678 , 152.3559322 ],\n",
       "       [192.06818182, 147.19318182]])"
      ]
     },
     "execution_count": 24,
     "metadata": {},
     "output_type": "execute_result"
    }
   ],
   "source": [
    "km4.cluster_centers_"
   ]
  },
  {
   "cell_type": "code",
   "execution_count": 26,
   "id": "7142906f",
   "metadata": {},
   "outputs": [
    {
     "data": {
      "image/png": "[encoded data removed]",
      "text/plain": [
       "<Figure size 1000x500 with 1 Axes>"
      ]
     },
     "metadata": {},
     "output_type": "display_data"
    }
   ],
   "source": [
    "#Visualizing the clusters for k=4\n",
    "plt.scatter(X[y_means==0,0],X[y_means==0,1],s=50, c='purple',label='Cluster1') #s : scalar or array_like, shape (n, ),means the size of each scatter\n",
    "plt.scatter(X[y_means==1,0],X[y_means==1,1],s=50, c='blue',label='Cluster2')\n",
    "plt.scatter(X[y_means==2,0],X[y_means==2,1],s=50, c='green',label='Cluster3')\n",
    "plt.scatter(X[y_means==3,0],X[y_means==3,1],s=50, c='cyan',label='Cluster4')\n",
    "#X[y_means==3,0] returns the x axis (income) value when y_means==3;\n",
    "#X[y_means==3,1] returns the y axis (spend) value when y_means==3;\n",
    "\n",
    "plt.scatter(km4.cluster_centers_[:,0], km4.cluster_centers_[:,1],s=200,marker='s', c='red', alpha=0.7, label='Centroids')\n",
    "#plt.scatter(km4.cluster_centers_[:,0] returns the first column and all rows\n",
    "#km4.cluster_centers_[1,:] returns the values of the first row and all columns\n",
    "\n",
    "plt.title('Customer segments')\n",
    "plt.xlabel('Annual income of customer')\n",
    "plt.ylabel('Annual spend from customer on site')\n",
    "plt.legend()\n",
    "plt.show()"
   ]
  },
  {
   "cell_type": "code",
   "execution_count": 29,
   "id": "5a0b5eec",
   "metadata": {},
   "outputs": [
    {
     "data": {
      "text/plain": [
       "array([1])"
      ]
     },
     "execution_count": 29,
     "metadata": {},
     "output_type": "execute_result"
    }
   ],
   "source": [
    "km4.predict([[264,132]])"
   ]
  },
  {
   "cell_type": "code",
   "execution_count": 30,
   "id": "22bfb4a4",
   "metadata": {},
   "outputs": [
    {
     "data": {
      "text/plain": [
       "['customer segmentation']"
      ]
     },
     "execution_count": 30,
     "metadata": {},
     "output_type": "execute_result"
    }
   ],
   "source": [
    "joblib.dump(km4,\"customer segmentation\")"
   ]
  },
  {
   "cell_type": "code",
   "execution_count": 32,
   "id": "711bef6e",
   "metadata": {},
   "outputs": [],
   "source": [
    "model =joblib.load(\"customer segmentation\")"
   ]
  },
  {
   "cell_type": "code",
   "execution_count": 35,
   "id": "e26dc071",
   "metadata": {},
   "outputs": [
    {
     "data": {
      "text/plain": [
       "array([3])"
      ]
     },
     "execution_count": 35,
     "metadata": {},
     "output_type": "execute_result"
    }
   ],
   "source": [
    "model.predict([[204,172]])"
   ]
  },
  {
   "cell_type": "code",
   "execution_count": 105,
   "id": "2459d977",
   "metadata": {},
   "outputs": [
    {
     "data": {
      "text/plain": [
       "['kmeans_model.joblib']"
      ]
     },
     "execution_count": 105,
     "metadata": {},
     "output_type": "execute_result"
    }
   ],
   "source": [
    "joblib.dump(km4, 'kmeans_model.joblib')"
   ]
  },
  {
   "cell_type": "code",
   "execution_count": 36,
   "id": "9303b1d9",
   "metadata": {},
   "outputs": [],
   "source": [
    "from tkinter import *\n",
    "import joblib"
   ]
  },
  {
   "cell_type": "code",
   "execution_count": 38,
   "id": "55ea2d07",
   "metadata": {},
   "outputs": [],
   "source": [
    "from tkinter import Tk, Label, Entry, Button, messagebox\n",
    "import joblib\n",
    "\n",
    "def show_entry_fields():\n",
    "    try:\n",
    "        p1 = int(e1.get())\n",
    "        p2 = int(e2.get())\n",
    "        \n",
    "        model = joblib.load(\"Customer segmentation\")\n",
    "        result = model.predict([[p1, p2]])\n",
    "\n",
    "        if result[0] == 0:\n",
    "            label_result.config(text=\"Customers with medium annual income and medium annual spend\")\n",
    "        elif result[0] == 1:\n",
    "            label_result.config(text=\"Customers with high annual income but low annual spend\")\n",
    "        elif result[0] == 2:\n",
    "            label_result.config(text=\"Customers with low annual income but high annual spend\")\n",
    "        elif result[0] == 3:\n",
    "            label_result.config(text=\"Customers with high annual income and high annual spend\")\n",
    "\n",
    "    except ValueError:\n",
    "        messagebox.showerror(\"Error\", \"Please enter valid numeric values for Annual Income and Spending Score\")\n",
    "\n",
    "# Create the main window\n",
    "master = Tk()\n",
    "master.title(\"Customer Segmentation using Machine Learning\")\n",
    "\n",
    "# Create labels, entries, and button\n",
    "Label(master, text=\"Customer Segmentation using Machine Learning\", bg=\"black\", fg=\"white\").grid(row=0, columnspan=2)\n",
    "Label(master, text=\"Annual Income\").grid(row=1)\n",
    "Label(master, text=\"Spending Score\").grid(row=2)\n",
    "\n",
    "e1 = Entry(master)\n",
    "e2 = Entry(master)\n",
    "\n",
    "e1.grid(row=1, column=1)\n",
    "e2.grid(row=2, column=1)\n",
    "\n",
    "Button(master, text=\"Predict\", command=show_entry_fields).grid(row=3, columnspan=2)\n",
    "\n",
    "# Label to display the result\n",
    "label_result = Label(master, text=\"\")\n",
    "label_result.grid(row=4, columnspan=2)\n",
    "\n",
    "# Run the Tkinter event loop\n",
    "master.mainloop()\n"
   ]
  },
  {
   "cell_type": "code",
   "execution_count": null,
   "id": "e25b63d5",
   "metadata": {},
   "outputs": [],
   "source": []
  }
 ],
 "metadata": {
  "kernelspec": {
   "display_name": "Python 3 (ipykernel)",
   "language": "python",
   "name": "python3"
  },
  "language_info": {
   "codemirror_mode": {
    "name": "ipython",
    "version": 3
   },
   "file_extension": ".py",
   "mimetype": "text/x-python",
   "name": "python",
   "nbconvert_exporter": "python",
   "pygments_lexer": "ipython3",
   "version": "3.11.5"
  }
 },
 "nbformat": 4,
 "nbformat_minor": 5
}
